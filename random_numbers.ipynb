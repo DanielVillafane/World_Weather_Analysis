{
 "cells": [
  {
   "cell_type": "code",
   "execution_count": 22,
   "id": "72bd478e",
   "metadata": {},
   "outputs": [],
   "source": [
    "# import the random module\n",
    "import random\n",
    "# Import the NumPy module.\n",
    "import numpy as np\n",
    "# Import timeit.\n",
    "import timeit"
   ]
  },
  {
   "cell_type": "code",
   "execution_count": 2,
   "id": "25581c6b",
   "metadata": {},
   "outputs": [
    {
     "data": {
      "text/plain": [
       "0.407169428463391"
      ]
     },
     "execution_count": 2,
     "metadata": {},
     "output_type": "execute_result"
    }
   ],
   "source": [
    "random.random()"
   ]
  },
  {
   "cell_type": "code",
   "execution_count": 3,
   "id": "39e35a98",
   "metadata": {},
   "outputs": [
    {
     "data": {
      "text/plain": [
       "-52"
      ]
     },
     "execution_count": 3,
     "metadata": {},
     "output_type": "execute_result"
    }
   ],
   "source": [
    "random.randint(-90, 90)"
   ]
  },
  {
   "cell_type": "code",
   "execution_count": 10,
   "id": "150e507e",
   "metadata": {},
   "outputs": [
    {
     "data": {
      "text/plain": [
       "63.467892280719546"
      ]
     },
     "execution_count": 10,
     "metadata": {},
     "output_type": "execute_result"
    }
   ],
   "source": [
    "random_number = random.randint(-90, 89) + random.random()\n",
    "random_number"
   ]
  },
  {
   "cell_type": "code",
   "execution_count": 16,
   "id": "8328befa",
   "metadata": {},
   "outputs": [
    {
     "data": {
      "text/plain": [
       "[17.896336680326463,\n",
       " -21.00347294962258,\n",
       " 75.62182861489669,\n",
       " -49.65277958943451,\n",
       " -83.14524269005513,\n",
       " 18.18140354073085,\n",
       " 35.34323660836089,\n",
       " 66.19405833481203,\n",
       " 65.12636988453107,\n",
       " -28.169767692935796]"
      ]
     },
     "execution_count": 16,
     "metadata": {},
     "output_type": "execute_result"
    }
   ],
   "source": [
    "x = 1\n",
    "latitudes = []\n",
    "while x < 11:\n",
    "    random_lat = random.randint(-90, 89) + random.random()\n",
    "    latitudes.append(random_lat)\n",
    "    x += 1\n",
    "latitudes"
   ]
  },
  {
   "cell_type": "raw",
   "id": "718994e2",
   "metadata": {},
   "source": [
    "random.randrange(-90, 90, step=1)"
   ]
  },
  {
   "cell_type": "code",
   "execution_count": 17,
   "id": "4fb11430",
   "metadata": {},
   "outputs": [
    {
     "data": {
      "text/plain": [
       "10.72301915583327"
      ]
     },
     "execution_count": 17,
     "metadata": {},
     "output_type": "execute_result"
    }
   ],
   "source": [
    "random.uniform(-90, 90)"
   ]
  },
  {
   "cell_type": "code",
   "execution_count": 20,
   "id": "d99b011d",
   "metadata": {},
   "outputs": [
    {
     "data": {
      "text/plain": [
       "-11.924169009517058"
      ]
     },
     "execution_count": 20,
     "metadata": {},
     "output_type": "execute_result"
    }
   ],
   "source": [
    "np.random.uniform(-90, 90)"
   ]
  },
  {
   "cell_type": "code",
   "execution_count": 21,
   "id": "6abf7aa7",
   "metadata": {},
   "outputs": [
    {
     "data": {
      "text/plain": [
       "array([-61.94893846, -25.61155216,  13.60702425,  34.44474005,\n",
       "       -84.28807618,  41.491448  ,   5.63358608, -27.50558495,\n",
       "       -23.76327636, -80.33000263, -75.47802728,  48.5772014 ,\n",
       "         9.97939674, -87.18567399, -33.31587726, -30.02447234,\n",
       "       -86.26350819,  31.9359161 ,  54.69663965, -51.56246784,\n",
       "       -54.46376174,   1.65500049,  63.72872501,  37.95948805,\n",
       "       -40.71476697, -32.33382942, -21.92861229,  76.82547486,\n",
       "       -55.96172953, -55.57457127,  84.0624455 ,  64.80856273,\n",
       "        17.75639162,  41.54316351, -46.59946387,  25.74318653,\n",
       "       -85.86976175, -69.7981467 ,  71.35236623, -68.24787599,\n",
       "       -89.22840959, -60.2332428 , -85.56255005,  89.5952348 ,\n",
       "        70.23836525, -83.54542934, -19.45992894,  72.53269086,\n",
       "        12.84904202,  -1.53766656])"
      ]
     },
     "execution_count": 21,
     "metadata": {},
     "output_type": "execute_result"
    }
   ],
   "source": [
    "np.random.uniform(-90.000, 90.000, size=50)"
   ]
  },
  {
   "cell_type": "code",
   "execution_count": 23,
   "id": "ca774850",
   "metadata": {},
   "outputs": [
    {
     "name": "stdout",
     "output_type": "stream",
     "text": [
      "22.1 µs ± 420 ns per loop (mean ± std. dev. of 7 runs, 10000 loops each)\n"
     ]
    }
   ],
   "source": [
    "%timeit np.random.uniform(-90.000, 90.000, size=1500)"
   ]
  },
  {
   "cell_type": "code",
   "execution_count": 24,
   "id": "12389154",
   "metadata": {},
   "outputs": [
    {
     "name": "stdout",
     "output_type": "stream",
     "text": [
      "3 ms ± 66.6 µs per loop (mean ± std. dev. of 7 runs, 100 loops each)\n"
     ]
    }
   ],
   "source": [
    "def latitudes(size):\n",
    "    latitudes = []\n",
    "    x = 0\n",
    "    while x < (size):\n",
    "        random_lat = random.randint(-90, 90) + random.random()\n",
    "        latitudes.append(random_lat)\n",
    "        x += 1\n",
    "    return latitudes\n",
    "# Call the function with 1500.\n",
    "%timeit latitudes(1500)"
   ]
  },
  {
   "cell_type": "code",
   "execution_count": null,
   "id": "b94b00f7",
   "metadata": {},
   "outputs": [],
   "source": []
  }
 ],
 "metadata": {
  "kernelspec": {
   "display_name": "PythonData",
   "language": "python",
   "name": "pythondata"
  },
  "language_info": {
   "codemirror_mode": {
    "name": "ipython",
    "version": 3
   },
   "file_extension": ".py",
   "mimetype": "text/x-python",
   "name": "python",
   "nbconvert_exporter": "python",
   "pygments_lexer": "ipython3",
   "version": "3.7.10"
  }
 },
 "nbformat": 4,
 "nbformat_minor": 5
}
